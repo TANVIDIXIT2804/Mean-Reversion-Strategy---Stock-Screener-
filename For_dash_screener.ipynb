{
  "cells": [
    {
      "cell_type": "code",
      "execution_count": null,
      "metadata": {
        "colab": {
          "base_uri": "https://localhost:8080/"
        },
        "id": "v3z1uNTtBKo5",
        "outputId": "95ced61a-06df-4654-9bbf-7869cacd8fa4"
      },
      "outputs": [
        {
          "output_type": "stream",
          "name": "stdout",
          "text": [
            "Collecting ta\n",
            "  Downloading ta-0.10.2.tar.gz (25 kB)\n",
            "  Preparing metadata (setup.py) ... \u001b[?25l\u001b[?25hdone\n",
            "Requirement already satisfied: numpy in /usr/local/lib/python3.10/dist-packages (from ta) (1.23.5)\n",
            "Requirement already satisfied: pandas in /usr/local/lib/python3.10/dist-packages (from ta) (1.5.3)\n",
            "Requirement already satisfied: python-dateutil>=2.8.1 in /usr/local/lib/python3.10/dist-packages (from pandas->ta) (2.8.2)\n",
            "Requirement already satisfied: pytz>=2020.1 in /usr/local/lib/python3.10/dist-packages (from pandas->ta) (2023.3.post1)\n",
            "Requirement already satisfied: six>=1.5 in /usr/local/lib/python3.10/dist-packages (from python-dateutil>=2.8.1->pandas->ta) (1.16.0)\n",
            "Building wheels for collected packages: ta\n",
            "  Building wheel for ta (setup.py) ... \u001b[?25l\u001b[?25hdone\n",
            "  Created wheel for ta: filename=ta-0.10.2-py3-none-any.whl size=29089 sha256=e84b8286f20f112f7b87dd27ee7cb8b46a5e5becee367e7b4f051654c4dbf4b9\n",
            "  Stored in directory: /root/.cache/pip/wheels/47/51/06/380dc516ea78621870b93ff65527c251afdfdc5fa9d7f4d248\n",
            "Successfully built ta\n"
          ]
        }
      ],
      "source": [
        "pip install ta\n"
      ]
    },
    {
      "cell_type": "code",
      "execution_count": null,
      "metadata": {
        "id": "mFkkjhG2BNGP"
      },
      "outputs": [],
      "source": [
        "pip install plotly"
      ]
    },
    {
      "cell_type": "code",
      "execution_count": null,
      "metadata": {
        "id": "j9FXWrHPBZRN"
      },
      "outputs": [],
      "source": [
        "pip install pandas"
      ]
    },
    {
      "cell_type": "code",
      "execution_count": null,
      "metadata": {
        "id": "KI9sPXn_-PhJ"
      },
      "outputs": [],
      "source": [
        "import yfinance as yf #getting data\n",
        "import pandas as pd #data handling\n",
        "import numpy as np #calc\n",
        "import ta #tech indi\n",
        "import matplotlib.pyplot as plt #visualization\n"
      ]
    },
    {
      "cell_type": "code",
      "execution_count": null,
      "metadata": {
        "id": "4HqguC8oBcYk"
      },
      "outputs": [],
      "source": [
        "class Backtest:\n",
        "\n",
        "  def __init__(self,symbol):\n",
        "    self.symbol=symbol\n",
        "    self.df=yf.download(self.symbol, start='2019-01-01')\n",
        "\n",
        "    if self.df.empty:\n",
        "      print(self.symbol,'no data pulled')\n",
        "    else:\n",
        "      # results=pd.DataFrame()\n",
        "      self.calc_indicators()\n",
        "      self.generate_signal()\n",
        "      self.backtest_dataframe()\n",
        "      self.get_results_dataframe()\n",
        "\n",
        "\n",
        "      # self.profit=self.calc_profit()\n",
        "      # # self.max_drawdown= self.profit.min()\n",
        "      # self.cumul_profit=(self.profit+1).prod()-1\n",
        "      # # self.plot_chart()\n",
        "\n",
        "  def calc_indicators(self):\n",
        "    self.df['ma_20']=self.df.Close.rolling(20).mean()\n",
        "    self.df['vol']=self.df.Close.rolling(20).std()\n",
        "    self.df['upper_bb']=self.df.ma_20+(2*self.df.vol)\n",
        "    self.df['lower_bb']=self.df.ma_20-(2*self.df.vol)\n",
        "    self.df['rsi']=ta.momentum.rsi(self.df.Close,window=6)\n",
        "    self.df.dropna(inplace=True)\n",
        "    self.df.reset_index(inplace=True)\n",
        "\n",
        "  def generate_signal(self):\n",
        "    #buy signal\n",
        "    self.df['signal'] = np.where(\n",
        "        (self.df['rsi'] < 30) &\n",
        "        (self.df['Close'] < self.df['lower_bb']), 1, np.nan)\n",
        "\n",
        "    #sell signal\n",
        "    self.df['signal'] = np.where(\n",
        "        (self.df['rsi'] > 70) &\n",
        "        (self.df['Close'] > self.df['upper_bb']), -1, self.df['signal'])\n",
        "\n",
        "    #buy/sell next trading day\n",
        "    self.df['signal'] = self.df['signal'].shift()\n",
        "    self.df['signal'] = self.df['signal'].fillna(0)\n",
        "\n",
        "\n",
        "\n",
        "  def plot_chart(self):\n",
        "    # plt.figure(figsize=(10,5))\n",
        "    # plt.plot(self.df.Close)\n",
        "\n",
        "    # plt.scatter(self.buy_arr.index,self.buy_arr.values,marker='^',c='g')\n",
        "    # plt.scatter(self.sell_arr.index,self.sell_arr.values,marker='v',c='r')\n",
        "\n",
        "    plt.figure(figsize=(12,5))\n",
        "# plt.xticks(rotation=45)\n",
        "\n",
        "    plt.plot(self.df['Date'], self.df['Close'])\n",
        "    plt.scatter(self.df[(self.df['signal'] == 1)]['buy_date'], self.df[(self.df['signal'] == 1)]['Close'], label = 'Buy', marker='^', c='g')\n",
        "    plt.scatter(self.df[(self.df['signal'] == -1)]['sell_date'], self.df[(self.df['signal'] == -1)]['Close'], label = 'Sell', marker='v', c='r')\n",
        "    plt.title('Price Chart & Historical Trades', fontweight=\"bold\")\n",
        "    return plt\n",
        "# plt.legend()\n",
        "# plt.show()\n",
        "\n",
        "  def backtest_dataframe(self):\n",
        "    trade_points=pd.DataFrame(columns=[\"Action\",\"Price\",\"Date\"])\n",
        "    position = 0\n",
        "    net_profit = 0\n",
        "    percentage_change = []\n",
        "    self.df['buy_date'] = ''\n",
        "    self.df['sell_date'] = ''\n",
        "\n",
        "    for i in self.df.index:\n",
        "        close = self.df[\"Close\"][i]\n",
        "        date = self.df['Date'][i]\n",
        "\n",
        "        # Buy action\n",
        "        if self.df[\"signal\"][i] == 1:\n",
        "            if(position == 0):\n",
        "                buy_price = close\n",
        "                position = 1\n",
        "                self.df.at[i, 'buy_date'] = date\n",
        "                trade_points=trade_points.append({\"Action\":\"Buy\",\"Price\":np.round(buy_price,2),\"Date\":date},ignore_index=True)\n",
        "                #print(f\"Buying at {str(buy_price)} on {str(date)}\")\n",
        "\n",
        "        # Sell action\n",
        "        elif (self.df[\"signal\"][i] == -1):\n",
        "            if(position == 1):\n",
        "                sell_price = close\n",
        "                bought = 0\n",
        "                position = 0\n",
        "                self.df.at[i, 'sell_date'] = date\n",
        "                trade_points=trade_points.append({\"Action\":\"Sell\",\"Price\":np.round(sell_price,2),\"Date\":date},ignore_index=True)\n",
        "                #print(f\"Selling at {str(sell_price)} on {str(date)}\")\n",
        "\n",
        "                # Get percentage change of trade\n",
        "                pc = (sell_price/buy_price-1)*100\n",
        "                percentage_change.append(pc)\n",
        "                net_profit += (sell_price - buy_price)\n",
        "\n",
        "    # Calculate trade statistics\n",
        "    gains = 0\n",
        "    ng = 0\n",
        "    losses = 0\n",
        "    nl = 0\n",
        "    totalR = 1\n",
        "\n",
        "    for i in percentage_change:\n",
        "        if(i > 0):\n",
        "            gains += i\n",
        "            ng += 1\n",
        "        else:\n",
        "            losses += i\n",
        "            nl += 1\n",
        "        totalR = totalR * ((i/100)+1)\n",
        "\n",
        "    totalR = round((totalR-1)*100, 2)\n",
        "\n",
        "    if(ng > 0):\n",
        "        avgGain = round(gains/ng, 2)\n",
        "        maxR = round(max(percentage_change), 2)\n",
        "    else:\n",
        "        avgGain = 0\n",
        "        maxR = \"undefined\"\n",
        "\n",
        "    if(nl > 0):\n",
        "        avgLoss = round(losses/nl, 2)\n",
        "        maxL = round(min(percentage_change), 2)\n",
        "    else:\n",
        "        avgLoss = 0\n",
        "        maxL = \"undefined\"\n",
        "\n",
        "    if(ng > 0 or nl > 0):\n",
        "        win_rate = round((ng/(ng+nl))*100, 2)\n",
        "    else:\n",
        "        win_rate = 0\n",
        "\n",
        "    Metric=['Number of Trades','Number of Gains','Number of Losses','Total Returns %','Win Rate %','Average Gain %','Average Loss %','Max Return %','Max Loss %']\n",
        "    Value=[ng+nl,ng,nl,totalR,win_rate,avgGain,avgLoss,maxR,maxL]\n",
        "    results=pd.DataFrame({'Metric': Metric,\n",
        "        'Value': Value})\n",
        "    # print()\n",
        "    # print('Evaluation Metrics:')\n",
        "    # print('-----------------------------------')\n",
        "    # print(f\"Number of Trades: {ng+nl}\")\n",
        "    # print(f\"Number of Gains: {ng}\")\n",
        "    # print(f\"Number of Losses: {nl}\")\n",
        "    # print(f\"Total Returns: {totalR}%\")\n",
        "    # print(f\"Win Rate: {win_rate}%\")\n",
        "    # print(f\"Average Gain: {avgGain}%\")\n",
        "    # print(f\"Average Loss: {avgLoss}%\")\n",
        "    # print(f\"Max Return: {maxR}%\")\n",
        "    # print(f\"Max Loss: {maxL}%\")\n",
        "    # print()\n",
        "    self.results=results\n",
        "    # print(results)\n",
        "    return results, trade_points\n",
        "\n",
        "  def get_results_dataframe(self):\n",
        "    if hasattr(self, 'results'):\n",
        "        return self.results\n",
        "    else:\n",
        "        return None\n",
        "\n",
        "\n"
      ]
    },
    {
      "cell_type": "code",
      "execution_count": null,
      "metadata": {
        "id": "GV10za-8-JBe"
      },
      "outputs": [],
      "source": [
        "instance=Backtest('AAPL')\n",
        "print(type(instance.df['buy_date'][0]))\n"
      ]
    },
    {
      "cell_type": "code",
      "execution_count": null,
      "metadata": {
        "id": "GP5u-RtYfLiH"
      },
      "outputs": [],
      "source": [
        "df=instance.df\n",
        "print(df[df['signal'] == 1])\n",
        "#print(df)\n",
        "x=[]\n",
        "y=[]\n",
        "for i in range(0,len(df)):\n",
        "  if len(str(df['buy_date'][i]))>2:\n",
        "    #print(df['buy_date'][i])\n",
        "    x.append(df['buy_date'][i])\n",
        "    y.append(df['Close'][i])\n",
        "\n"
      ]
    },
    {
      "cell_type": "code",
      "execution_count": null,
      "metadata": {
        "id": "GZ6bsdbOmR3C"
      },
      "outputs": [],
      "source": [
        "# print(b)"
      ]
    },
    {
      "cell_type": "code",
      "execution_count": null,
      "metadata": {
        "id": "MFwO4FsZj43x"
      },
      "outputs": [],
      "source": [
        "\n",
        "hi=instance.get_results_dataframe()\n",
        "if hi is not None:\n",
        "    print(hi)\n",
        "else:\n",
        "    print(\"No results available.\")"
      ]
    },
    {
      "cell_type": "code",
      "execution_count": null,
      "metadata": {
        "id": "I6Mpn3o2jWCW"
      },
      "outputs": [],
      "source": [
        "a=instance.plot_chart()\n",
        "type(a)"
      ]
    },
    {
      "cell_type": "code",
      "execution_count": null,
      "metadata": {
        "id": "3jOlj01kXMG-"
      },
      "outputs": [],
      "source": [
        "pip install dash\n"
      ]
    },
    {
      "cell_type": "code",
      "execution_count": null,
      "metadata": {
        "id": "KbDQvouwXUUi"
      },
      "outputs": [],
      "source": [
        "from dash import Dash,Input, Output, dcc, html,callback, dash_table\n",
        "import io\n",
        "import base64\n",
        "import plotly.express as px\n",
        "import plotly.graph_objects as go"
      ]
    },
    {
      "cell_type": "code",
      "execution_count": null,
      "metadata": {
        "id": "boqQgNPAXUWY"
      },
      "outputs": [],
      "source": [
        "tickers=pd.read_html('https://en.wikipedia.org/wiki/List_of_S%26P_500_companies')[0].Symbol"
      ]
    },
    {
      "cell_type": "code",
      "execution_count": null,
      "metadata": {
        "id": "ZZ9e3MqVXUaE"
      },
      "outputs": [],
      "source": []
    },
    {
      "cell_type": "code",
      "execution_count": null,
      "metadata": {
        "id": "oDC_dR8aXUdP"
      },
      "outputs": [],
      "source": [
        "list(tickers)"
      ]
    },
    {
      "cell_type": "code",
      "execution_count": null,
      "metadata": {
        "id": "BesOVKqyXUic"
      },
      "outputs": [],
      "source": [
        "app = Dash(__name__)\n",
        "\n",
        "app.layout = html.Div([\n",
        "\thtml.H1('Mean Reversion- Stock Screener'),\n",
        "\n",
        "    html.Div(\n",
        "        [\n",
        "            html.Div([\n",
        "                dcc.Dropdown(id=\"stock_name\",options=list(tickers),placeholder=\"Select a Stock\"),\n",
        "\n",
        "                html.Br(),\n",
        "                html.H4(\"Strategy Performance\",id=\"heading1\",style={\"display\":\"None\"}),\n",
        "                html.Br(),\n",
        "                html.Div([],id=\"metrics_table\"),\n",
        "\n",
        "                html.Br(),\n",
        "                html.H4(\"Strategy Execution\",id=\"heading2\",style={\"display\":\"None\"}),\n",
        "                html.Br(),\n",
        "                html.Div([],id=\"execution_table\"),\n",
        "                html.Br(),\n",
        "                dcc.Graph(id='plot'),\n",
        "\n",
        "         ] )\n",
        "        ]\n",
        "\n",
        ")\n",
        "\n",
        "\n",
        "           ] )\n",
        "\n",
        "\n",
        "\n",
        "@callback(\n",
        "    Output(component_id='heading1', component_property='style'),\n",
        "    Output(component_id='heading2', component_property='style'),\n",
        "    Output(component_id='metrics_table', component_property='children'),\n",
        "    Output(component_id='execution_table', component_property='children'),\n",
        "\n",
        "    Input(component_id='stock_name', component_property='value')\n",
        ")\n",
        "def update_output_div(input_value):\n",
        "    print(input_value)\n",
        "    instance=Backtest(input_value)\n",
        "    a,b=instance.backtest_dataframe()\n",
        "    #df=backtest_dataframe(df)\n",
        "\n",
        "    q=dash_table.DataTable(\n",
        "\n",
        "                           data=a.to_dict('records'),\n",
        "                           columns=[{\"name\": i, \"id\": i} for i in a.columns],\n",
        "                           style_header={\n",
        "                                    'backgroundColor': 'rgb(240,248,255)',\n",
        "                                    'color': 'black',\n",
        "                                    'fontWeight': 'bold'\n",
        "                                         },\n",
        "                           style_cell_conditional=[\n",
        "                                                {\n",
        "                                                    'if': {'column_id': c},\n",
        "                                                    'textAlign': 'center'\n",
        "                                                } for c in a.columns\n",
        "                                            ],\n",
        "\n",
        "\n",
        "                           )\n",
        "    w=dash_table.DataTable(\n",
        "\n",
        "                           data=b.to_dict('records'),\n",
        "                           columns=[{\"name\": i, \"id\": i} for i in b.columns],\n",
        "                           style_header={\n",
        "                                    'backgroundColor': 'rgb(240,248,255)',\n",
        "                                    'color': 'black',\n",
        "                                    'fontWeight': 'bold',\n",
        "                                    'textAlign': 'center'\n",
        "                                         },\n",
        "                           style_data_conditional=[\n",
        "                                                  {\n",
        "                                                      'if': {'row_index': 'even'},\n",
        "                                                      #'backgroundColor': 'rgb(144,238,144)',\n",
        "                                                      'textAlign': 'center'\n",
        "                                                  },{\n",
        "                                                      'if': {'row_index': 'odd'},\n",
        "                                                      #'backgroundColor': 'rgb(255,114,118)',\n",
        "                                                      'textAlign': 'center'\n",
        "                                                  }],\n",
        "\n",
        "\n",
        "\n",
        "\n",
        "                           )\n",
        "    return {\"display\":\"block\"},{\"display\":\"block\"}, q,w\n",
        "\n",
        "@app.callback(\n",
        "    Output('plot', 'figure'), # src attribute\n",
        "    [Input('stock_name', 'value')]\n",
        ")\n",
        "def update_figure(input_values):\n",
        "    instance=Backtest(input_values)\n",
        "    df=instance.df\n",
        "    fig = px.line(df, x=\"Date\", y=\"Close\")\n",
        "    x_data=[]\n",
        "    y_data=[]\n",
        "    for i in range(0,len(df)):\n",
        "      if len(str(df['sell_date'][i]))>2:\n",
        "        #print(df['buy_date'][i])\n",
        "        x_data.append(df['sell_date'][i])\n",
        "        y_data.append(df['Close'][i])\n",
        "\n",
        "    fig.add_trace(go.Scatter(x=x_data, y=y_data,\n",
        "                    mode='markers', name='Sell',marker=dict(size=10)))\n",
        "\n",
        "    x_data=[]\n",
        "    y_data=[]\n",
        "    for i in range(0,len(df)):\n",
        "      if len(str(df['buy_date'][i]))>2:\n",
        "        #print(df['buy_date'][i])\n",
        "        x_data.append(df['buy_date'][i])\n",
        "        y_data.append(df['Close'][i])\n",
        "\n",
        "    fig.add_trace(go.Scatter(x=x_data, y=y_data,\n",
        "                    mode='markers', name='Buy',marker=dict(size=10)))\n",
        "\n",
        "\n",
        "\n",
        "    return fig\n",
        "if __name__ == '__main__':\n",
        "\tapp.run_server(debug=False,host='0.0.0.0',port=8058)\n"
      ]
    },
    {
      "cell_type": "code",
      "execution_count": null,
      "metadata": {
        "id": "ccFmWBkvXUmC"
      },
      "outputs": [],
      "source": []
    }
  ],
  "metadata": {
    "colab": {
      "provenance": []
    },
    "kernelspec": {
      "display_name": "Python 3",
      "name": "python3"
    },
    "language_info": {
      "name": "python"
    }
  },
  "nbformat": 4,
  "nbformat_minor": 0
}